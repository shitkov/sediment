{
  "nbformat": 4,
  "nbformat_minor": 0,
  "metadata": {
    "colab": {
      "provenance": [],
      "collapsed_sections": []
    },
    "kernelspec": {
      "name": "python3",
      "display_name": "Python 3"
    },
    "language_info": {
      "name": "python"
    }
  },
  "cells": [
    {
      "cell_type": "code",
      "execution_count": 1,
      "metadata": {
        "colab": {
          "base_uri": "https://localhost:8080/"
        },
        "id": "-N0qcLU4BpfB",
        "outputId": "3a2f88b6-2138-4386-c65e-b5670e021e67"
      },
      "outputs": [
        {
          "output_type": "stream",
          "name": "stdout",
          "text": [
            "Drive already mounted at /drive; to attempt to forcibly remount, call drive.mount(\"/drive\", force_remount=True).\n"
          ]
        }
      ],
      "source": [
        "from google.colab import drive\n",
        "drive.mount('/drive')"
      ]
    },
    {
      "cell_type": "code",
      "source": [
        "import cv2\n",
        "import numpy as np\n",
        "import glob\n",
        "import os\n",
        "from os import listdir\n",
        "from os.path import isfile, join\n",
        "from datetime import datetime\n",
        "from scipy import signal\n",
        "from scipy.signal import savgol_filter\n",
        "from PIL import Image"
      ],
      "metadata": {
        "id": "TO6WhGahBvPp"
      },
      "execution_count": 2,
      "outputs": []
    },
    {
      "cell_type": "code",
      "source": [
        "class BorderCatcher:\n",
        "\n",
        "    def __init__(self, corners, width, height, shift):\n",
        "        self.corners = corners\n",
        "        self.width = width\n",
        "        self.height = height\n",
        "        self.shift = shift\n",
        "\n",
        "    def predict(self, path, prefix, visualization=False):\n",
        "        # 1. Get images\n",
        "        names = self._get_images(path)\n",
        "        if len(names) == 0:\n",
        "            return [], []\n",
        "        \n",
        "        # 2. Get borders\n",
        "        images = []\n",
        "        curves = []\n",
        "        borders = []\n",
        "        for name in names:\n",
        "            image, curve, border = self._get_border(path, name)\n",
        "            images.append(image)\n",
        "            curves.append(curve)\n",
        "            borders.append(border)\n",
        "        \n",
        "        # 3. Smoothing borders\n",
        "        borders = [int(border) for border in self._border_filter(borders)]\n",
        "\n",
        "        # 4. Get timeline\n",
        "        minutes = self._get_minutes(names)\n",
        "\n",
        "        # 5. Save images\n",
        "        if visualization:\n",
        "            for i, name in enumerate(names):\n",
        "                image = images[i]\n",
        "                curve = curves[i]\n",
        "                border = borders[i]\n",
        "                minute = minutes[i]\n",
        "                self._save_image(image, path, prefix, name, minute, curve, border)\n",
        "            # create gif\n",
        "            self._make_gif(path + prefix + '/', names[0][:-4] + '.gif')\n",
        "        borders = [int((1 - round(border/self.height, 3)) * 100) for border in borders]\n",
        "        return borders, minutes\n",
        "\n",
        "         \n",
        "    def _get_images(self, path):\n",
        "        '''\n",
        "        Get all .png pictures in folder 'path'\n",
        "        '''\n",
        "        names_list = glob.glob(f\"{path}/*.png\")\n",
        "        names_list.sort()\n",
        "        try:\n",
        "            names_list = names_list[1:]\n",
        "            names_list = [name.split('/')[-1] for name in names_list]\n",
        "        except:\n",
        "            pass\n",
        "        return names_list\n",
        "\n",
        "    def _get_border(self, path, name):\n",
        "        '''\n",
        "        Find border. Return warped image, cumulative V-channel from HSV for light-curve, and border\n",
        "        '''\n",
        "        # read\n",
        "        image = cv2.imread(path + name)\n",
        "        # warp\n",
        "        image = self._warp_image(image)\n",
        "        # get V-channel\n",
        "        image_hsv = cv2.cvtColor(image, cv2.COLOR_BGR2HSV)\n",
        "        image_hsv = image_hsv[:, :, 2]\n",
        "        # get source curve\n",
        "        arr = [sum(layer) for layer in image_hsv]\n",
        "        arr = list((arr - np.min(arr)) / np.ptp(arr))     \n",
        "        curve = [int(x * self.width) for x in arr]\n",
        "        # find border\n",
        "        filtered = savgol_filter(arr, 51, 2, 0, mode='interp')\n",
        "        delta_arr = [filtered[i] - filtered[i + self.shift] for i in range(len(filtered) - self.shift)]\n",
        "        delta_max = max(delta_arr)\n",
        "        border = delta_arr.index(delta_max) + int(self.shift / 2)\n",
        "        return image, curve, border\n",
        "\n",
        "    def _warp_image(self, image):\n",
        "        '''\n",
        "        Resize to 960x640 and warp for 4 points q1...q4 to width X height\n",
        "        '''\n",
        "        image = cv2.resize(image, (960, 640), interpolation = cv2.INTER_AREA)\n",
        "        image = cv2.rotate(image, cv2.ROTATE_90_CLOCKWISE)\n",
        "\n",
        "        q1, q2, q3, q4 = self.corners\n",
        "        \n",
        "        input = np.float32([q1, q2, q3, q4])\n",
        "        output = np.float32([\n",
        "            [0, 0],\n",
        "            [self.width - 1, 0],\n",
        "            [self.width - 1, self.height - 1],\n",
        "            [0, self.height - 1]\n",
        "        ])\n",
        "\n",
        "        matrix = cv2.getPerspectiveTransform(input, output)\n",
        "\n",
        "        image = cv2.warpPerspective(\n",
        "            image,\n",
        "            matrix,\n",
        "            (self.width, self.height),\n",
        "            cv2.INTER_LINEAR,\n",
        "            borderMode=cv2.BORDER_CONSTANT,\n",
        "            borderValue=(0,0,0)\n",
        "        )\n",
        "        return image\n",
        "\n",
        "    def _border_filter(self, borders):\n",
        "        '''\n",
        "        Smoothing borders\n",
        "        '''\n",
        "        b, a = signal.butter(6, 0.2, btype='lowpass', analog=False)\n",
        "        return signal.filtfilt(b, a, borders)\n",
        "\n",
        "    def _get_minutes(self, names):\n",
        "        '''\n",
        "        Get minutes from start\n",
        "        '''\n",
        "        start = datetime.strptime(names[0][6:-4], '%Y-%m-%d_%H-%M-%S')\n",
        "        return [round((datetime.strptime(name[6:-4], '%Y-%m-%d_%H-%M-%S') - start).seconds / 60, 1) for name in names]\n",
        "\n",
        "    def _save_image(self, image, path, prefix, name, minute, curve, border):\n",
        "        '''\n",
        "        Save cropped and warped images with additional information\n",
        "        '''\n",
        "        for y in range(height):\n",
        "            image = cv2.circle(image, [curve[y],  y], 1, (0, 0, 255), -1)\n",
        "\n",
        "        image = cv2.line(image, [0, border], [self.width, border], (0, 255, 0), thickness=1)\n",
        "\n",
        "        self._add_text(image, str(int((1 - round(border/self.height, 3)) * 100)) + ' %', 50, 100)\n",
        "\n",
        "        self._add_text(image, str(minute) + ' min.', 50, 200)\n",
        "\n",
        "        try:\n",
        "            os.mkdir(path + prefix)\n",
        "        except:\n",
        "            pass\n",
        "        cv2.imwrite(os.path.join(path + prefix + '/', prefix + '_' + name + '.jpg'), image)\n",
        "\n",
        "    def _make_gif(self, path, name):\n",
        "        '''\n",
        "        Create GIF from prepreocessing images\n",
        "        '''\n",
        "        names_list = glob.glob(f\"{path}/*.jpg\")\n",
        "        names_list.sort()\n",
        "        frames = [Image.open(image) for image in names_list]\n",
        "        frame_one = frames[0]\n",
        "        frame_one.save(path + '/' + name, format=\"GIF\", append_images=frames,\n",
        "                save_all=True, duration=500, loop=0)\n",
        "        \n",
        "    def _add_text(self, image, text, x, y):\n",
        "        '''\n",
        "        Add text to image to (x, y) coordinates\n",
        "        '''\n",
        "        font = cv2.FONT_HERSHEY_SIMPLEX\n",
        "        bottomLeftCornerOfText = (x, y)\n",
        "        fontScale = 2\n",
        "        fontColor = (255,0,0)\n",
        "        thickness = 2\n",
        "        lineType = 2\n",
        "\n",
        "        cv2.putText(\n",
        "            image,\n",
        "            text, \n",
        "            bottomLeftCornerOfText, \n",
        "            font, \n",
        "            fontScale,\n",
        "            fontColor,\n",
        "            thickness,\n",
        "            lineType\n",
        "            )"
      ],
      "metadata": {
        "id": "sAoKI4ECMc5S"
      },
      "execution_count": 3,
      "outputs": []
    },
    {
      "cell_type": "code",
      "source": [
        "# corners for cut and warp\n",
        "corners = [285,143], [490,150], [546,806], [305,810]\n",
        "\n",
        "# result image parameters\n",
        "width = 400\n",
        "height = 800\n",
        "\n",
        "# algotirhm parameter for border smoothing\n",
        "shift = 20\n",
        "\n",
        "# folder with images\n",
        "path = '/drive/MyDrive/ml/boundary/src/photo_experiment_2022-09-10_11-45-10/'\n",
        "# subfolder name for results\n",
        "prefix = 'outcome'\n",
        "\n",
        "# initialization\n",
        "catcher = BorderCatcher(corners, width, height, shift)\n",
        "\n",
        "# calculation\n",
        "borders, minutes = catcher.predict(path, prefix, True)"
      ],
      "metadata": {
        "id": "Vm8LtPoEaHt4"
      },
      "execution_count": 4,
      "outputs": []
    },
    {
      "cell_type": "code",
      "source": [
        "from matplotlib import pyplot as plt\n",
        "plt.plot(minutes, borders)\n",
        "plt.ylabel('border, %')\n",
        "plt.xlabel('time, min')\n",
        "plt.show()"
      ],
      "metadata": {
        "colab": {
          "base_uri": "https://localhost:8080/",
          "height": 281
        },
        "id": "SeK4qh9NauCP",
        "outputId": "dacae808-c465-4ba1-b880-53017ba98796"
      },
      "execution_count": 5,
      "outputs": [
        {
          "output_type": "display_data",
          "data": {
            "text/plain": [
              "<Figure size 432x288 with 1 Axes>"
            ],
            "image/png": "[encoded data removed]"
          },
          "metadata": {
            "needs_background": "light"
          }
        }
      ]
    }
  ]
}