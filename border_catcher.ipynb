{
  "nbformat": 4,
  "nbformat_minor": 0,
  "metadata": {
    "colab": {
      "provenance": [],
      "collapsed_sections": []
    },
    "kernelspec": {
      "name": "python3",
      "display_name": "Python 3"
    },
    "language_info": {
      "name": "python"
    }
  },
  "cells": [
    {
      "cell_type": "code",
      "execution_count": 1,
      "metadata": {
        "colab": {
          "base_uri": "https://localhost:8080/"
        },
        "id": "-N0qcLU4BpfB",
        "outputId": "8c151360-738c-4f23-cdfe-36d6321cced8"
      },
      "outputs": [
        {
          "output_type": "stream",
          "name": "stdout",
          "text": [
            "Drive already mounted at /drive; to attempt to forcibly remount, call drive.mount(\"/drive\", force_remount=True).\n"
          ]
        }
      ],
      "source": [
        "from google.colab import drive\n",
        "drive.mount('/drive')"
      ]
    },
    {
      "cell_type": "code",
      "source": [
        "import cv2\n",
        "import numpy as np\n",
        "import glob\n",
        "import os\n",
        "from os import listdir\n",
        "from os.path import isfile, join\n",
        "from datetime import datetime\n",
        "from scipy import signal\n",
        "from scipy.signal import savgol_filter\n",
        "from scipy.signal import argrelextrema\n",
        "from PIL import Image\n",
        "from matplotlib import pyplot as plt"
      ],
      "metadata": {
        "id": "TO6WhGahBvPp"
      },
      "execution_count": 2,
      "outputs": []
    },
    {
      "cell_type": "code",
      "source": [
        "from catcher import BorderCatcher"
      ],
      "metadata": {
        "id": "29qyfKZWnfPH"
      },
      "execution_count": 3,
      "outputs": []
    },
    {
      "cell_type": "code",
      "source": [
        "# corners for cut and warp\n",
        "corners = [285,143], [490,150], [546,806], [305,810]\n",
        "\n",
        "# result image parameters\n",
        "width = 400\n",
        "height = 800\n",
        "\n",
        "# algotirhm parameter for border smoothing\n",
        "shift = 20\n",
        "\n",
        "# folder with images\n",
        "# path = '/drive/MyDrive/ml/boundary/src/photo_experiment_2022-09-10_11-45-10/'\n",
        "path = '/drive/MyDrive/ml/boundary/src/photo_experiment_2022-09-14_16-03-56/'"
      ],
      "metadata": {
        "id": "Vm8LtPoEaHt4"
      },
      "execution_count": 4,
      "outputs": []
    },
    {
      "cell_type": "code",
      "source": [
        "# subfolder name for results\n",
        "prefix = 'default'\n",
        "\n",
        "# initialization\n",
        "catcher = BorderCatcher(corners, width, height, shift, 'default')\n",
        "\n",
        "# calculation\n",
        "borders, minutes, velocity = catcher.predict(path, prefix, visualization=True)"
      ],
      "metadata": {
        "id": "RysINNu-QZLR"
      },
      "execution_count": 5,
      "outputs": []
    },
    {
      "cell_type": "code",
      "source": [
        "plt.plot(minutes, borders)\n",
        "plt.ylabel('border, %')\n",
        "plt.xlabel('time, min')\n",
        "plt.show()"
      ],
      "metadata": {
        "colab": {
          "base_uri": "https://localhost:8080/",
          "height": 282
        },
        "id": "AWzADl6ySCD0",
        "outputId": "00c57b60-59eb-4367-92fe-2c920740c539"
      },
      "execution_count": 6,
      "outputs": [
        {
          "output_type": "display_data",
          "data": {
            "text/plain": [
              "<Figure size 432x288 with 1 Axes>"
            ],
            "image/png": "[encoded data removed]"
          },
          "metadata": {
            "needs_background": "light"
          }
        }
      ]
    },
    {
      "cell_type": "code",
      "source": [
        "plt.plot(minutes, velocity)\n",
        "plt.ylabel('velocity, %/min.')\n",
        "plt.xlabel('time, min')\n",
        "plt.show()"
      ],
      "metadata": {
        "colab": {
          "base_uri": "https://localhost:8080/",
          "height": 279
        },
        "id": "86ENGflxVewQ",
        "outputId": "ad79230d-a9e6-4cd1-84fb-5d78b08c42a4"
      },
      "execution_count": 7,
      "outputs": [
        {
          "output_type": "display_data",
          "data": {
            "text/plain": [
              "<Figure size 432x288 with 1 Axes>"
            ],
            "image/png": "[encoded data removed]"
          },
          "metadata": {
            "needs_background": "light"
          }
        }
      ]
    }
  ]
}